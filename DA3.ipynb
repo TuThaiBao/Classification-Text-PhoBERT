{
  "cells": [
    {
      "cell_type": "markdown",
      "metadata": {
        "id": "OxrIa5qUIW-l"
      },
      "source": [
        "#**1. Thiết lập các thư viện về PhoBERT**\n",
        "\n",
        "\n",
        "\n"
      ]
    },
    {
      "cell_type": "markdown",
      "metadata": {
        "id": "0rVZmt76IzXP"
      },
      "source": [
        "Để load model PhoBERT chúng ta sẽ cần cài đặt các packages sau đây:\n",
        "\n",
        "*   fairseq: Là project của facebook chuyên hỗ trợ các nghiên cứu và dự án liên quan đến model seq2seq.\n",
        "*   fastBPE: Là package hỗ trợ tokenize từ (word) thành các từ phụ (subwords) theo phương pháp mới nhất được áp dụng cho các pretrain model NLP hiện đại như BERT và các biến thể của BERT.\n",
        "*   vncorenlp: Là một package NLP trong Tiếng Việt, hỗ trợ tokenize và các tác vụ NLP khác.\n",
        "*  transformers: Là một project của huggingface hỗ trợ huấn luyện các model dựa trên kiến trúc transformer như BERT, GPT-2, RoBERTa, XLM, DistilBert, XLNet, T5, CTRL,... phục vụ cho các tác vụ NLP trên cả nền tảng pytorch và tensorflow."
      ]
    },
    {
      "cell_type": "code",
      "execution_count": null,
      "metadata": {
        "colab": {
          "base_uri": "https://localhost:8080/"
        },
        "id": "vapnTLA009BF",
        "outputId": "f07f5869-447a-4add-d30d-634d1ed195eb"
      },
      "outputs": [
        {
          "output_type": "stream",
          "name": "stdout",
          "text": [
            "Looking in indexes: https://pypi.org/simple, https://us-python.pkg.dev/colab-wheels/public/simple/\n",
            "Requirement already satisfied: transformers in /usr/local/lib/python3.8/dist-packages (4.25.1)\n",
            "Requirement already satisfied: tqdm>=4.27 in /usr/local/lib/python3.8/dist-packages (from transformers) (4.64.1)\n",
            "Requirement already satisfied: filelock in /usr/local/lib/python3.8/dist-packages (from transformers) (3.8.2)\n",
            "Requirement already satisfied: tokenizers!=0.11.3,<0.14,>=0.11.1 in /usr/local/lib/python3.8/dist-packages (from transformers) (0.13.2)\n",
            "Requirement already satisfied: packaging>=20.0 in /usr/local/lib/python3.8/dist-packages (from transformers) (21.3)\n",
            "Requirement already satisfied: huggingface-hub<1.0,>=0.10.0 in /usr/local/lib/python3.8/dist-packages (from transformers) (0.11.1)\n",
            "Requirement already satisfied: pyyaml>=5.1 in /usr/local/lib/python3.8/dist-packages (from transformers) (6.0)\n",
            "Requirement already satisfied: regex!=2019.12.17 in /usr/local/lib/python3.8/dist-packages (from transformers) (2022.6.2)\n",
            "Requirement already satisfied: numpy>=1.17 in /usr/local/lib/python3.8/dist-packages (from transformers) (1.21.6)\n",
            "Requirement already satisfied: requests in /usr/local/lib/python3.8/dist-packages (from transformers) (2.23.0)\n",
            "Requirement already satisfied: typing-extensions>=3.7.4.3 in /usr/local/lib/python3.8/dist-packages (from huggingface-hub<1.0,>=0.10.0->transformers) (4.4.0)\n",
            "Requirement already satisfied: pyparsing!=3.0.5,>=2.0.2 in /usr/local/lib/python3.8/dist-packages (from packaging>=20.0->transformers) (3.0.9)\n",
            "Requirement already satisfied: certifi>=2017.4.17 in /usr/local/lib/python3.8/dist-packages (from requests->transformers) (2022.12.7)\n",
            "Requirement already satisfied: chardet<4,>=3.0.2 in /usr/local/lib/python3.8/dist-packages (from requests->transformers) (3.0.4)\n",
            "Requirement already satisfied: urllib3!=1.25.0,!=1.25.1,<1.26,>=1.21.1 in /usr/local/lib/python3.8/dist-packages (from requests->transformers) (1.24.3)\n",
            "Requirement already satisfied: idna<3,>=2.5 in /usr/local/lib/python3.8/dist-packages (from requests->transformers) (2.10)\n",
            "Looking in indexes: https://pypi.org/simple, https://us-python.pkg.dev/colab-wheels/public/simple/\n",
            "Requirement already satisfied: fairseq in /usr/local/lib/python3.8/dist-packages (0.12.2)\n",
            "Requirement already satisfied: regex in /usr/local/lib/python3.8/dist-packages (from fairseq) (2022.6.2)\n",
            "Requirement already satisfied: bitarray in /usr/local/lib/python3.8/dist-packages (from fairseq) (2.6.1)\n",
            "Requirement already satisfied: numpy in /usr/local/lib/python3.8/dist-packages (from fairseq) (1.21.6)\n",
            "Requirement already satisfied: sacrebleu>=1.4.12 in /usr/local/lib/python3.8/dist-packages (from fairseq) (2.3.1)\n",
            "Requirement already satisfied: torch in /usr/local/lib/python3.8/dist-packages (from fairseq) (1.13.0+cu116)\n",
            "Requirement already satisfied: hydra-core<1.1,>=1.0.7 in /usr/local/lib/python3.8/dist-packages (from fairseq) (1.0.7)\n",
            "Requirement already satisfied: omegaconf<2.1 in /usr/local/lib/python3.8/dist-packages (from fairseq) (2.0.6)\n",
            "Requirement already satisfied: tqdm in /usr/local/lib/python3.8/dist-packages (from fairseq) (4.64.1)\n",
            "Requirement already satisfied: torchaudio>=0.8.0 in /usr/local/lib/python3.8/dist-packages (from fairseq) (0.13.0+cu116)\n",
            "Requirement already satisfied: cffi in /usr/local/lib/python3.8/dist-packages (from fairseq) (1.15.1)\n",
            "Requirement already satisfied: cython in /usr/local/lib/python3.8/dist-packages (from fairseq) (0.29.32)\n",
            "Requirement already satisfied: importlib-resources in /usr/local/lib/python3.8/dist-packages (from hydra-core<1.1,>=1.0.7->fairseq) (5.10.1)\n",
            "Requirement already satisfied: antlr4-python3-runtime==4.8 in /usr/local/lib/python3.8/dist-packages (from hydra-core<1.1,>=1.0.7->fairseq) (4.8)\n",
            "Requirement already satisfied: typing-extensions in /usr/local/lib/python3.8/dist-packages (from omegaconf<2.1->fairseq) (4.4.0)\n",
            "Requirement already satisfied: PyYAML>=5.1.* in /usr/local/lib/python3.8/dist-packages (from omegaconf<2.1->fairseq) (6.0)\n",
            "Requirement already satisfied: portalocker in /usr/local/lib/python3.8/dist-packages (from sacrebleu>=1.4.12->fairseq) (2.6.0)\n",
            "Requirement already satisfied: tabulate>=0.8.9 in /usr/local/lib/python3.8/dist-packages (from sacrebleu>=1.4.12->fairseq) (0.8.10)\n",
            "Requirement already satisfied: lxml in /usr/local/lib/python3.8/dist-packages (from sacrebleu>=1.4.12->fairseq) (4.9.2)\n",
            "Requirement already satisfied: colorama in /usr/local/lib/python3.8/dist-packages (from sacrebleu>=1.4.12->fairseq) (0.4.6)\n",
            "Requirement already satisfied: pycparser in /usr/local/lib/python3.8/dist-packages (from cffi->fairseq) (2.21)\n",
            "Requirement already satisfied: zipp>=3.1.0 in /usr/local/lib/python3.8/dist-packages (from importlib-resources->hydra-core<1.1,>=1.0.7->fairseq) (3.11.0)\n",
            "Looking in indexes: https://pypi.org/simple, https://us-python.pkg.dev/colab-wheels/public/simple/\n",
            "Requirement already satisfied: fastbpe in /usr/local/lib/python3.8/dist-packages (0.1.0)\n",
            "Looking in indexes: https://pypi.org/simple, https://us-python.pkg.dev/colab-wheels/public/simple/\n",
            "Requirement already satisfied: vncorenlp in /usr/local/lib/python3.8/dist-packages (1.0.3)\n",
            "Requirement already satisfied: requests in /usr/local/lib/python3.8/dist-packages (from vncorenlp) (2.23.0)\n",
            "Requirement already satisfied: chardet<4,>=3.0.2 in /usr/local/lib/python3.8/dist-packages (from requests->vncorenlp) (3.0.4)\n",
            "Requirement already satisfied: urllib3!=1.25.0,!=1.25.1,<1.26,>=1.21.1 in /usr/local/lib/python3.8/dist-packages (from requests->vncorenlp) (1.24.3)\n",
            "Requirement already satisfied: idna<3,>=2.5 in /usr/local/lib/python3.8/dist-packages (from requests->vncorenlp) (2.10)\n",
            "Requirement already satisfied: certifi>=2017.4.17 in /usr/local/lib/python3.8/dist-packages (from requests->vncorenlp) (2022.12.7)\n",
            "Looking in indexes: https://pypi.org/simple, https://us-python.pkg.dev/colab-wheels/public/simple/\n",
            "Requirement already satisfied: fastBPE in /usr/local/lib/python3.8/dist-packages (0.1.0)\n"
          ]
        }
      ],
      "source": [
        "!pip3 install transformers\n",
        "!pip3 install fairseq\n",
        "!pip3 install fastbpe\n",
        "!pip3 install vncorenlp\n",
        "!pip3 install fastBPE"
      ]
    },
    {
      "cell_type": "markdown",
      "metadata": {
        "id": "1hTWt5gVIrFX"
      },
      "source": [
        "Download các model pretrain từ PhoBERT.\n",
        "\n",
        "Ở đồ án này sử dụng pretrain model BERT base được huấn luyện từ package fairseq.\n",
        "\n",
        "Sau khi download và giải nén pretrain file chúng ta sẽ kiểm tra thấy bên trong folder sẽ bao gồm 3 files đó là `bpe.codes, dict.txt, model.pt`,có tác dụng như sau:\n",
        "\n",
        "*   bpe.codes: Là BPE token mà mô hình đã áp dụng để mã hóa văn bản sang index.\n",
        "*   dict.txt: Từ điển của bộ dữ liệu huấn luyện.\n",
        "*   model.pt: File lưu trữ của mô hình trên pytorch"
      ]
    },
    {
      "cell_type": "code",
      "execution_count": null,
      "metadata": {
        "colab": {
          "base_uri": "https://localhost:8080/"
        },
        "id": "po_JwKnj97q3",
        "outputId": "0865b35b-73fc-44f8-c1f8-816d1fab1b5d"
      },
      "outputs": [
        {
          "output_type": "stream",
          "name": "stdout",
          "text": [
            "--2022-12-21 13:18:51--  https://public.vinai.io/PhoBERT_base_fairseq.tar.gz\n",
            "Resolving public.vinai.io (public.vinai.io)... 18.160.41.104, 18.160.41.47, 18.160.41.51, ...\n",
            "Connecting to public.vinai.io (public.vinai.io)|18.160.41.104|:443... connected.\n",
            "HTTP request sent, awaiting response... 200 OK\n",
            "Length: 1243308020 (1.2G) [application/x-tar]\n",
            "Saving to: ‘PhoBERT_base_fairseq.tar.gz.1’\n",
            "\n",
            "PhoBERT_base_fairse 100%[===================>]   1.16G  96.4MB/s    in 11s     \n",
            "\n",
            "2022-12-21 13:19:03 (109 MB/s) - ‘PhoBERT_base_fairseq.tar.gz.1’ saved [1243308020/1243308020]\n",
            "\n",
            "PhoBERT_base_fairseq/\n",
            "PhoBERT_base_fairseq/bpe.codes\n",
            "PhoBERT_base_fairseq/model.pt\n",
            "PhoBERT_base_fairseq/dict.txt\n"
          ]
        }
      ],
      "source": [
        "!wget https://public.vinai.io/PhoBERT_base_fairseq.tar.gz\n",
        "!tar -xzvf PhoBERT_base_fairseq.tar.gz"
      ]
    },
    {
      "cell_type": "markdown",
      "metadata": {
        "id": "oMf7qCZFKFnJ"
      },
      "source": [
        "Tải model từ fairseq"
      ]
    },
    {
      "cell_type": "code",
      "execution_count": null,
      "metadata": {
        "id": "pQSPJFmj9_k6"
      },
      "outputs": [],
      "source": [
        "from fairseq.models.roberta import RobertaModel\n",
        "phoBERT = RobertaModel.from_pretrained('PhoBERT_base_fairseq', checkpoint_file='model.pt')"
      ]
    },
    {
      "cell_type": "markdown",
      "metadata": {
        "id": "2mXvNV4GKmIX"
      },
      "source": [
        "Tải pre-trained của PhoBERT."
      ]
    },
    {
      "cell_type": "code",
      "execution_count": null,
      "metadata": {
        "colab": {
          "base_uri": "https://localhost:8080/"
        },
        "id": "GQveC8M8Bu60",
        "outputId": "4e56074c-2af5-4dcd-802f-683fa9757a2c"
      },
      "outputs": [
        {
          "output_type": "stream",
          "name": "stdout",
          "text": [
            "--2022-12-21 13:19:47--  https://public.vinai.io/PhoBERT_base_transformers.tar.gz\n",
            "Resolving public.vinai.io (public.vinai.io)... 18.160.41.77, 18.160.41.104, 18.160.41.51, ...\n",
            "Connecting to public.vinai.io (public.vinai.io)|18.160.41.77|:443... connected.\n",
            "HTTP request sent, awaiting response... 200 OK\n",
            "Length: 322405979 (307M) [application/x-tar]\n",
            "Saving to: ‘PhoBERT_base_transformers.tar.gz.1’\n",
            "\n",
            "PhoBERT_base_transf 100%[===================>] 307.47M  58.0MB/s    in 3.9s    \n",
            "\n",
            "2022-12-21 13:19:51 (78.7 MB/s) - ‘PhoBERT_base_transformers.tar.gz.1’ saved [322405979/322405979]\n",
            "\n",
            "PhoBERT_base_transformers/\n",
            "PhoBERT_base_transformers/config.json\n",
            "PhoBERT_base_transformers/bpe.codes\n",
            "PhoBERT_base_transformers/model.bin\n",
            "PhoBERT_base_transformers/dict.txt\n"
          ]
        }
      ],
      "source": [
        "!wget https://public.vinai.io/PhoBERT_base_transformers.tar.gz\n",
        "!tar -xzvf PhoBERT_base_transformers.tar.gz"
      ]
    },
    {
      "cell_type": "markdown",
      "metadata": {
        "id": "BntHCyqMLJnY"
      },
      "source": [
        "PhoBERT base transformers 4 file nhỏ bao gồm:\n",
        "*   `config.json` chứa config của model.\n",
        "*   `model.bin` lưu trữ pre-trained weight của model.\n",
        "*   `bpe.codes` và `dict.txt` chứ từ điển sẵn có của PhoBERT."
      ]
    },
    {
      "cell_type": "code",
      "execution_count": null,
      "metadata": {
        "id": "_tV2tfu3-dLe"
      },
      "outputs": [],
      "source": [
        "from fairseq.data.encoders.fastbpe import fastBPE\n",
        "from fairseq import options\n",
        "from fairseq.data import Dictionary\n",
        "# Load the model in fairseq\n",
        "from fairseq.models.roberta import RobertaModel\n",
        "\n",
        "phoBERT_cls = RobertaModel.from_pretrained('PhoBERT_base_fairseq', checkpoint_file='model.pt')\n",
        "phoBERT_cls.eval()  # disable dropout (or leave in train mode to finetune\n",
        "\n",
        "# Load BPE\n",
        "class BPE():\n",
        "  bpe_codes = 'PhoBERT_base_fairseq/bpe.codes'\n",
        "\n",
        "args = BPE()\n",
        "phoBERT_cls.bpe = fastBPE(args) #Incorporate the BPE encoder into PhoBERT"
      ]
    },
    {
      "cell_type": "markdown",
      "metadata": {
        "id": "CW3k-58AMRUN"
      },
      "source": [
        "Download package VnCoreNLP"
      ]
    },
    {
      "cell_type": "code",
      "execution_count": null,
      "metadata": {
        "colab": {
          "base_uri": "https://localhost:8080/"
        },
        "id": "EgPT8mO7-kQf",
        "outputId": "33dbbc04-f551-453d-fe6d-b11be99a7960"
      },
      "outputs": [
        {
          "output_type": "stream",
          "name": "stdout",
          "text": [
            "--2022-12-21 13:20:19--  https://raw.githubusercontent.com/vncorenlp/VnCoreNLP/master/VnCoreNLP-1.1.1.jar\n",
            "Resolving raw.githubusercontent.com (raw.githubusercontent.com)... 185.199.108.133, 185.199.109.133, 185.199.110.133, ...\n",
            "Connecting to raw.githubusercontent.com (raw.githubusercontent.com)|185.199.108.133|:443... connected.\n",
            "HTTP request sent, awaiting response... 200 OK\n",
            "Length: 27412575 (26M) [application/octet-stream]\n",
            "Saving to: ‘VnCoreNLP-1.1.1.jar’\n",
            "\n",
            "VnCoreNLP-1.1.1.jar 100%[===================>]  26.14M  --.-KB/s    in 0.08s   \n",
            "\n",
            "2022-12-21 13:20:19 (336 MB/s) - ‘VnCoreNLP-1.1.1.jar’ saved [27412575/27412575]\n",
            "\n",
            "--2022-12-21 13:20:19--  https://raw.githubusercontent.com/vncorenlp/VnCoreNLP/master/models/wordsegmenter/vi-vocab\n",
            "Resolving raw.githubusercontent.com (raw.githubusercontent.com)... 185.199.108.133, 185.199.109.133, 185.199.110.133, ...\n",
            "Connecting to raw.githubusercontent.com (raw.githubusercontent.com)|185.199.108.133|:443... connected.\n",
            "HTTP request sent, awaiting response... 200 OK\n",
            "Length: 526544 (514K) [application/octet-stream]\n",
            "Saving to: ‘vi-vocab’\n",
            "\n",
            "vi-vocab            100%[===================>] 514.20K  --.-KB/s    in 0.007s  \n",
            "\n",
            "2022-12-21 13:20:19 (75.2 MB/s) - ‘vi-vocab’ saved [526544/526544]\n",
            "\n",
            "--2022-12-21 13:20:20--  https://raw.githubusercontent.com/vncorenlp/VnCoreNLP/master/models/wordsegmenter/wordsegmenter.rdr\n",
            "Resolving raw.githubusercontent.com (raw.githubusercontent.com)... 185.199.108.133, 185.199.109.133, 185.199.110.133, ...\n",
            "Connecting to raw.githubusercontent.com (raw.githubusercontent.com)|185.199.108.133|:443... connected.\n",
            "HTTP request sent, awaiting response... 200 OK\n",
            "Length: 128508 (125K) [text/plain]\n",
            "Saving to: ‘wordsegmenter.rdr’\n",
            "\n",
            "wordsegmenter.rdr   100%[===================>] 125.50K  --.-KB/s    in 0.005s  \n",
            "\n",
            "2022-12-21 13:20:20 (26.1 MB/s) - ‘wordsegmenter.rdr’ saved [128508/128508]\n",
            "\n"
          ]
        }
      ],
      "source": [
        "# Download VnCoreNLP-1.1.1.jar & its word segmentation component (i.e. RDRSegmenter)\n",
        "!mkdir -p vncorenlp/models/wordsegmenter\n",
        "!wget https://raw.githubusercontent.com/vncorenlp/VnCoreNLP/master/VnCoreNLP-1.1.1.jar\n",
        "!wget https://raw.githubusercontent.com/vncorenlp/VnCoreNLP/master/models/wordsegmenter/vi-vocab\n",
        "!wget https://raw.githubusercontent.com/vncorenlp/VnCoreNLP/master/models/wordsegmenter/wordsegmenter.rdr\n",
        "!mv VnCoreNLP-1.1.1.jar vncorenlp/\n",
        "!mv vi-vocab vncorenlp/models/wordsegmenter/\n",
        "!mv wordsegmenter.rdr vncorenlp/models/wordsegmenter/"
      ]
    },
    {
      "cell_type": "code",
      "execution_count": null,
      "metadata": {
        "id": "bNRyLe0i-oTO"
      },
      "outputs": [],
      "source": [
        "from vncorenlp import VnCoreNLP\n",
        "rdrsegmenter = VnCoreNLP(\"vncorenlp/VnCoreNLP-1.1.1.jar\", annotators=\"wseg\", max_heap_size='-Xmx500m')"
      ]
    },
    {
      "cell_type": "markdown",
      "metadata": {
        "id": "1qmcqllY-RPj"
      },
      "source": [
        "#**2. Cài đặt các thư viện**"
      ]
    },
    {
      "cell_type": "code",
      "execution_count": null,
      "metadata": {
        "id": "dw9Fl1I21E_B",
        "colab": {
          "base_uri": "https://localhost:8080/"
        },
        "outputId": "9a00638e-62a2-42c9-8918-952f2733233d"
      },
      "outputs": [
        {
          "output_type": "stream",
          "name": "stderr",
          "text": [
            "[nltk_data] Downloading package punkt to /root/nltk_data...\n",
            "[nltk_data]   Package punkt is already up-to-date!\n"
          ]
        }
      ],
      "source": [
        "import numpy as np\n",
        "import pandas as pd\n",
        "import torch\n",
        "import regex\n",
        "import re\n",
        "from tqdm import tqdm\n",
        "import torch\n",
        "import seaborn as sns\n",
        "\n",
        "import nltk\n",
        "nltk.download('punkt')\n",
        "from nltk.tokenize import word_tokenize\n",
        "\n",
        "from transformers import AutoModel, AutoTokenizer\n",
        "from sklearn.model_selection import train_test_split\n",
        "from sklearn.preprocessing import LabelEncoder\n",
        "\n",
        "from sklearn.svm import SVC\n",
        "from sklearn.model_selection import GridSearchCV\n",
        "from sklearn.ensemble import RandomForestClassifier\n",
        "from sklearn.neighbors import KNeighborsClassifier\n",
        "from sklearn.metrics import accuracy_score\n",
        "\n",
        "from sklearn import preprocessing\n",
        "from sklearn.metrics import f1_score, precision_score, recall_score\n",
        "from sklearn.metrics import classification_report, confusion_matrix"
      ]
    },
    {
      "cell_type": "markdown",
      "metadata": {
        "id": "zYPBgtfmMh7w"
      },
      "source": [
        "#**3. Tải dữ liệu**\n",
        "Bộ dữ liệu được thu thập ở Kaggle: https://www.kaggle.com/code/linhlpv/vietnamese-sentiment-analyst-base/data"
      ]
    },
    {
      "cell_type": "code",
      "execution_count": null,
      "metadata": {
        "id": "NaupBS8T1KMW"
      },
      "outputs": [],
      "source": [
        "def get_data(path):\n",
        "    df = pd.read_csv('/content/data - data.csv')\n",
        "    df.columns = ['comment', 'label', 'rate', 'unnamed']\n",
        "    # unused column\n",
        "    df.drop(columns=['unnamed'], inplace=True)\n",
        "    return df"
      ]
    },
    {
      "cell_type": "code",
      "execution_count": null,
      "metadata": {
        "id": "ShpPW9lW1swj"
      },
      "outputs": [],
      "source": [
        "df = get_data('/content/data - data.csv')"
      ]
    },
    {
      "cell_type": "code",
      "execution_count": null,
      "metadata": {
        "colab": {
          "base_uri": "https://localhost:8080/"
        },
        "id": "vnFV7_yP2bmL",
        "outputId": "bc10623e-0fac-493f-8e46-9b63b48592de"
      },
      "outputs": [
        {
          "output_type": "stream",
          "name": "stdout",
          "text": [
            "<class 'pandas.core.frame.DataFrame'>\n",
            "RangeIndex: 31460 entries, 0 to 31459\n",
            "Data columns (total 3 columns):\n",
            " #   Column   Non-Null Count  Dtype \n",
            "---  ------   --------------  ----- \n",
            " 0   comment  31460 non-null  object\n",
            " 1   label    31460 non-null  object\n",
            " 2   rate     31460 non-null  int64 \n",
            "dtypes: int64(1), object(2)\n",
            "memory usage: 737.5+ KB\n"
          ]
        }
      ],
      "source": [
        "df.info()"
      ]
    },
    {
      "cell_type": "code",
      "source": [
        "ax = sns.countplot(x='label', data=df).set(title='Visualize data in column Labels')"
      ],
      "metadata": {
        "colab": {
          "base_uri": "https://localhost:8080/",
          "height": 295
        },
        "id": "PjqdaIr42BWk",
        "outputId": "bc4a8d8a-4d2d-4355-cf4d-448a5db1802a"
      },
      "execution_count": null,
      "outputs": [
        {
          "output_type": "display_data",
          "data": {
            "text/plain": [
              "<Figure size 432x288 with 1 Axes>"
            ],
            "image/png": "[encoded data removed]"
          },
          "metadata": {
            "needs_background": "light"
          }
        }
      ]
    },
    {
      "cell_type": "markdown",
      "metadata": {
        "id": "-7D5N3BeNBRz"
      },
      "source": [
        "# **4.Tiền xử lý dữ liệu**\n",
        "\n",
        "Thực biện tách từ, xoá các kí tự thừa, loại bỏ các stopword"
      ]
    },
    {
      "cell_type": "code",
      "execution_count": null,
      "metadata": {
        "id": "_C6kRdR72ovb"
      },
      "outputs": [],
      "source": [
        "def tokenize(column):\n",
        "    tokens = nltk.word_tokenize(column)\n",
        "    return [w for w in tokens if w.isalpha()]\n",
        "\n",
        "stopword = set()\n",
        "with open('/content/stopwords.txt', 'r', encoding='utf-8') as _fp:\n",
        "    word = _fp.readlines()\n",
        "stopword = [n.replace('\\n', '') for n in word]\n",
        "\n",
        "def remove_stopwords(tokenized_column):\n",
        "    stops = stopword\n",
        "    return [word for word in tokenized_column if not word in stops]\n",
        "\n",
        "def rejoin_words(tokenized_column):\n",
        "    return ( \" \".join(tokenized_column))"
      ]
    },
    {
      "cell_type": "code",
      "execution_count": null,
      "metadata": {
        "id": "_Vl4o8oF3G7L"
      },
      "outputs": [],
      "source": [
        "df['tokenized'] = df.apply(lambda x: tokenize(x['comment']), axis=1)\n",
        "df['stopwords_removed'] = df.apply(lambda x: remove_stopwords(x['tokenized']), axis=1)\n",
        "df['Sentence'] = df.apply(lambda x: rejoin_words(x['stopwords_removed']), axis=1)"
      ]
    },
    {
      "cell_type": "markdown",
      "metadata": {
        "id": "-h32pFxeNdFd"
      },
      "source": [
        "Xoá bỏ các cột thừa sao khi tiền xử lý dữ liệu"
      ]
    },
    {
      "cell_type": "code",
      "execution_count": null,
      "metadata": {
        "id": "TZHD2XIm5K9d"
      },
      "outputs": [],
      "source": [
        "df.drop(columns=['comment'], inplace=True)\n",
        "df.drop(columns=['tokenized'], inplace=True)\n",
        "df.drop(columns=['stopwords_removed'], inplace=True)\n",
        "df.drop(columns=['rate'], inplace=True)"
      ]
    },
    {
      "cell_type": "code",
      "source": [
        "df"
      ],
      "metadata": {
        "colab": {
          "base_uri": "https://localhost:8080/",
          "height": 424
        },
        "id": "CTDsIgQGkGuy",
        "outputId": "270fc1bd-e6e4-40c1-de6b-07064567706a"
      },
      "execution_count": null,
      "outputs": [
        {
          "output_type": "execute_result",
          "data": {
            "text/plain": [
              "      label                                      Sentence\n",
              "0       POS                                    Áo bao đẹp\n",
              "1       POS                                     Tuyệt vời\n",
              "2       NEG                                ao khong giong\n",
              "3       POS                        Mùi thơm bôi da mềm da\n",
              "4       POS                               Vải đẹp dày dặn\n",
              "...     ...                                           ...\n",
              "31455   NEG                                    Không tiền\n",
              "31456   POS                                      Quần đẹp\n",
              "31457   POS                             Hàng đẹp giá tiền\n",
              "31458   POS                                   Chất vải ổn\n",
              "31459   POS  áo ok vải mịn len cổ phối form mùa đông chất\n",
              "\n",
              "[31460 rows x 2 columns]"
            ],
            "text/html": [
              "\n",
              "  <div id=\"df-193e06be-98cb-461e-b703-b7255edb629e\">\n",
              "    <div class=\"colab-df-container\">\n",
              "      <div>\n",
              "<style scoped>\n",
              "    .dataframe tbody tr th:only-of-type {\n",
              "        vertical-align: middle;\n",
              "    }\n",
              "\n",
              "    .dataframe tbody tr th {\n",
              "        vertical-align: top;\n",
              "    }\n",
              "\n",
              "    .dataframe thead th {\n",
              "        text-align: right;\n",
              "    }\n",
              "</style>\n",
              "<table border=\"1\" class=\"dataframe\">\n",
              "  <thead>\n",
              "    <tr style=\"text-align: right;\">\n",
              "      <th></th>\n",
              "      <th>label</th>\n",
              "      <th>Sentence</th>\n",
              "    </tr>\n",
              "  </thead>\n",
              "  <tbody>\n",
              "    <tr>\n",
              "      <th>0</th>\n",
              "      <td>POS</td>\n",
              "      <td>Áo bao đẹp</td>\n",
              "    </tr>\n",
              "    <tr>\n",
              "      <th>1</th>\n",
              "      <td>POS</td>\n",
              "      <td>Tuyệt vời</td>\n",
              "    </tr>\n",
              "    <tr>\n",
              "      <th>2</th>\n",
              "      <td>NEG</td>\n",
              "      <td>ao khong giong</td>\n",
              "    </tr>\n",
              "    <tr>\n",
              "      <th>3</th>\n",
              "      <td>POS</td>\n",
              "      <td>Mùi thơm bôi da mềm da</td>\n",
              "    </tr>\n",
              "    <tr>\n",
              "      <th>4</th>\n",
              "      <td>POS</td>\n",
              "      <td>Vải đẹp dày dặn</td>\n",
              "    </tr>\n",
              "    <tr>\n",
              "      <th>...</th>\n",
              "      <td>...</td>\n",
              "      <td>...</td>\n",
              "    </tr>\n",
              "    <tr>\n",
              "      <th>31455</th>\n",
              "      <td>NEG</td>\n",
              "      <td>Không tiền</td>\n",
              "    </tr>\n",
              "    <tr>\n",
              "      <th>31456</th>\n",
              "      <td>POS</td>\n",
              "      <td>Quần đẹp</td>\n",
              "    </tr>\n",
              "    <tr>\n",
              "      <th>31457</th>\n",
              "      <td>POS</td>\n",
              "      <td>Hàng đẹp giá tiền</td>\n",
              "    </tr>\n",
              "    <tr>\n",
              "      <th>31458</th>\n",
              "      <td>POS</td>\n",
              "      <td>Chất vải ổn</td>\n",
              "    </tr>\n",
              "    <tr>\n",
              "      <th>31459</th>\n",
              "      <td>POS</td>\n",
              "      <td>áo ok vải mịn len cổ phối form mùa đông chất</td>\n",
              "    </tr>\n",
              "  </tbody>\n",
              "</table>\n",
              "<p>31460 rows × 2 columns</p>\n",
              "</div>\n",
              "      <button class=\"colab-df-convert\" onclick=\"convertToInteractive('df-193e06be-98cb-461e-b703-b7255edb629e')\"\n",
              "              title=\"Convert this dataframe to an interactive table.\"\n",
              "              style=\"display:none;\">\n",
              "        \n",
              "  <svg xmlns=\"http://www.w3.org/2000/svg\" height=\"24px\"viewBox=\"0 0 24 24\"\n",
              "       width=\"24px\">\n",
              "    <path d=\"M0 0h24v24H0V0z\" fill=\"none\"/>\n",
              "    <path d=\"M18.56 5.44l.94 2.06.94-2.06 2.06-.94-2.06-.94-.94-2.06-.94 2.06-2.06.94zm-11 1L8.5 8.5l.94-2.06 2.06-.94-2.06-.94L8.5 2.5l-.94 2.06-2.06.94zm10 10l.94 2.06.94-2.06 2.06-.94-2.06-.94-.94-2.06-.94 2.06-2.06.94z\"/><path d=\"M17.41 7.96l-1.37-1.37c-.4-.4-.92-.59-1.43-.59-.52 0-1.04.2-1.43.59L10.3 9.45l-7.72 7.72c-.78.78-.78 2.05 0 2.83L4 21.41c.39.39.9.59 1.41.59.51 0 1.02-.2 1.41-.59l7.78-7.78 2.81-2.81c.8-.78.8-2.07 0-2.86zM5.41 20L4 18.59l7.72-7.72 1.47 1.35L5.41 20z\"/>\n",
              "  </svg>\n",
              "      </button>\n",
              "      \n",
              "  <style>\n",
              "    .colab-df-container {\n",
              "      display:flex;\n",
              "      flex-wrap:wrap;\n",
              "      gap: 12px;\n",
              "    }\n",
              "\n",
              "    .colab-df-convert {\n",
              "      background-color: #E8F0FE;\n",
              "      border: none;\n",
              "      border-radius: 50%;\n",
              "      cursor: pointer;\n",
              "      display: none;\n",
              "      fill: #1967D2;\n",
              "      height: 32px;\n",
              "      padding: 0 0 0 0;\n",
              "      width: 32px;\n",
              "    }\n",
              "\n",
              "    .colab-df-convert:hover {\n",
              "      background-color: #E2EBFA;\n",
              "      box-shadow: 0px 1px 2px rgba(60, 64, 67, 0.3), 0px 1px 3px 1px rgba(60, 64, 67, 0.15);\n",
              "      fill: #174EA6;\n",
              "    }\n",
              "\n",
              "    [theme=dark] .colab-df-convert {\n",
              "      background-color: #3B4455;\n",
              "      fill: #D2E3FC;\n",
              "    }\n",
              "\n",
              "    [theme=dark] .colab-df-convert:hover {\n",
              "      background-color: #434B5C;\n",
              "      box-shadow: 0px 1px 3px 1px rgba(0, 0, 0, 0.15);\n",
              "      filter: drop-shadow(0px 1px 2px rgba(0, 0, 0, 0.3));\n",
              "      fill: #FFFFFF;\n",
              "    }\n",
              "  </style>\n",
              "\n",
              "      <script>\n",
              "        const buttonEl =\n",
              "          document.querySelector('#df-193e06be-98cb-461e-b703-b7255edb629e button.colab-df-convert');\n",
              "        buttonEl.style.display =\n",
              "          google.colab.kernel.accessAllowed ? 'block' : 'none';\n",
              "\n",
              "        async function convertToInteractive(key) {\n",
              "          const element = document.querySelector('#df-193e06be-98cb-461e-b703-b7255edb629e');\n",
              "          const dataTable =\n",
              "            await google.colab.kernel.invokeFunction('convertToInteractive',\n",
              "                                                     [key], {});\n",
              "          if (!dataTable) return;\n",
              "\n",
              "          const docLinkHtml = 'Like what you see? Visit the ' +\n",
              "            '<a target=\"_blank\" href=https://colab.research.google.com/notebooks/data_table.ipynb>data table notebook</a>'\n",
              "            + ' to learn more about interactive tables.';\n",
              "          element.innerHTML = '';\n",
              "          dataTable['output_type'] = 'display_data';\n",
              "          await google.colab.output.renderOutput(dataTable, element);\n",
              "          const docLink = document.createElement('div');\n",
              "          docLink.innerHTML = docLinkHtml;\n",
              "          element.appendChild(docLink);\n",
              "        }\n",
              "      </script>\n",
              "    </div>\n",
              "  </div>\n",
              "  "
            ]
          },
          "metadata": {},
          "execution_count": 77
        }
      ]
    },
    {
      "cell_type": "markdown",
      "metadata": {
        "id": "xElxnGHDNyqJ"
      },
      "source": [
        "Chia dữ liệu thành 3 tập Train, Test, Valid để huấn luyện mô hình"
      ]
    },
    {
      "cell_type": "code",
      "execution_count": null,
      "metadata": {
        "id": "huo0-xDP7YY1"
      },
      "outputs": [],
      "source": [
        "X_train, X_test, y_train, y_test = train_test_split(df['Sentence'],\n",
        "                                                    df['label'],\n",
        "                                                    test_size = .15,\n",
        "                                                    shuffle = True,\n",
        "                                                    stratify=df['label'])\n",
        "\n",
        "X_train, X_valid, y_train, y_valid = train_test_split(X_train, y_train,\n",
        "                                                      test_size = .2,\n",
        "                                                      shuffle = True,\n",
        "                                                      stratify=y_train)"
      ]
    },
    {
      "cell_type": "markdown",
      "metadata": {
        "id": "Yz7y7RdGODSl"
      },
      "source": [
        "# **5. Trích suất đặt trưng**"
      ]
    },
    {
      "cell_type": "markdown",
      "metadata": {
        "id": "xdcrqAo_OlPj"
      },
      "source": [
        "#### PhoBERT"
      ]
    },
    {
      "cell_type": "markdown",
      "metadata": {
        "id": "_apkfl5qOnG6"
      },
      "source": [
        "Tokenize các câu văn sang chuỗi index và padding câu văn về cũng một độ dài."
      ]
    },
    {
      "cell_type": "code",
      "source": [
        "# Load the dictionary\n",
        "vocab = Dictionary()\n",
        "vocab.add_from_file(\"/content/PhoBERT_base_transformers/dict.txt\")"
      ],
      "metadata": {
        "id": "NACweHCb26V1"
      },
      "execution_count": null,
      "outputs": []
    },
    {
      "cell_type": "code",
      "execution_count": null,
      "metadata": {
        "id": "RBqzovpTBSVy"
      },
      "outputs": [],
      "source": [
        "max_sequence_length = 256\n",
        "def convert_lines(lines, vocab, bpe):\n",
        "  '''\n",
        "  lines: list các văn bản input\n",
        "  vocab: từ điển dùng để encoding subwords\n",
        "  bpe:\n",
        "  '''\n",
        "  # Khởi tạo ma trận output\n",
        "  outputs = np.zeros((len(lines), max_sequence_length), dtype=np.int32) # --> shape (number_lines, max_seq_len)\n",
        "  # Index của các token cls (đầu câu), eos (cuối câu), padding (padding token)\n",
        "  cls_id = 0\n",
        "  eos_id = 2\n",
        "  pad_id = 1\n",
        "\n",
        "  for idx, row in tqdm(enumerate(lines), total=len(lines)):\n",
        "    # Mã hóa subwords theo byte pair encoding(bpe)\n",
        "    subwords = bpe.encode('<s> '+ row +' </s>')\n",
        "    input_ids = vocab.encode_line(subwords, append_eos=False, add_if_not_exist=False).long().tolist()\n",
        "    # Truncate input nếu độ dài vượt quá max_seq_len\n",
        "    if len(input_ids) > max_sequence_length:\n",
        "      input_ids = input_ids[:max_sequence_length]\n",
        "      input_ids[-1] = eos_id\n",
        "    else:\n",
        "      # Padding nếu độ dài câu chưa bằng max_seq_len\n",
        "      input_ids = input_ids + [pad_id, ]*(max_sequence_length - len(input_ids))\n",
        "\n",
        "    outputs[idx,:] = np.array(input_ids)\n",
        "  return outputs"
      ]
    },
    {
      "cell_type": "markdown",
      "metadata": {
        "id": "ENdjOR_yPzGn"
      },
      "source": [
        "Trích đặt trưng cho tập Train, Test, Valid."
      ]
    },
    {
      "cell_type": "code",
      "execution_count": null,
      "metadata": {
        "colab": {
          "base_uri": "https://localhost:8080/"
        },
        "id": "idOci0BtCuAM",
        "outputId": "7cac6086-12c2-468b-9d78-5438ef211044"
      },
      "outputs": [
        {
          "output_type": "stream",
          "name": "stderr",
          "text": [
            "100%|██████████| 21392/21392 [00:02<00:00, 7698.33it/s]\n",
            "100%|██████████| 4719/4719 [00:00<00:00, 7564.11it/s]\n",
            "100%|██████████| 5349/5349 [00:00<00:00, 7917.68it/s]\n"
          ]
        }
      ],
      "source": [
        "X_train_pho = convert_lines(X_train,vocab, phoBERT_cls.bpe)\n",
        "X_test_pho = convert_lines(X_test, vocab, phoBERT_cls.bpe)\n",
        "X_valid_pho = convert_lines(X_valid, vocab, phoBERT_cls.bpe)"
      ]
    },
    {
      "cell_type": "markdown",
      "metadata": {
        "id": "bYqCupsMPkM9"
      },
      "source": [
        "Chuẩn hoá các nhãn về dạng số, và đổi kích thước nhãn"
      ]
    },
    {
      "cell_type": "code",
      "execution_count": null,
      "metadata": {
        "id": "CRPybI9pEDqd"
      },
      "outputs": [],
      "source": [
        "# lb = LabelEncoder()\n",
        "# lb.fit(df['label'])\n",
        "# y_train = lb.fit_transform(y_train)\n",
        "# y_test = lb.fit_transform(y_test)\n",
        "# y_train = y_train.reshape(-1,1)\n",
        "# y_test = y_test.reshape(-1,1)\n",
        "# print(lb.classes_)\n",
        "# print('Top 5 classes indices: ', y_train[:5])"
      ]
    },
    {
      "cell_type": "markdown",
      "metadata": {
        "id": "OXPV1bpkQHoW"
      },
      "source": [
        "# **6. Mô Hình học máy**"
      ]
    },
    {
      "cell_type": "markdown",
      "metadata": {
        "id": "sDiIBKJmQNNJ"
      },
      "source": [
        "## **6.1 Support Vector Machine - SVM**"
      ]
    },
    {
      "cell_type": "markdown",
      "metadata": {
        "id": "U76zw5hqQ5go"
      },
      "source": [
        "###Hyper Parameter Tuning"
      ]
    },
    {
      "cell_type": "code",
      "execution_count": null,
      "metadata": {
        "id": "c8VRur1ODslV"
      },
      "outputs": [],
      "source": [
        "SVM = SVC(C = 1, kernel='rbf', gamma=1)\n",
        "SVM.fit(X_train_pho, y_train)\n",
        "\n",
        "y_pred_SVM = SVM.predict(X_test_pho)"
      ]
    },
    {
      "cell_type": "code",
      "source": [
        "a = accuracy_score(y_pred_SVM, y_test)\n",
        "print(\"Validation accuracy: \", a*100)"
      ],
      "metadata": {
        "colab": {
          "base_uri": "https://localhost:8080/"
        },
        "id": "KMwxdLdm6uOC",
        "outputId": "df956bda-505d-4a89-8ef6-6879b6d6bee8"
      },
      "execution_count": null,
      "outputs": [
        {
          "output_type": "stream",
          "name": "stdout",
          "text": [
            "Validation accuracy:  65.73426573426573\n"
          ]
        }
      ]
    },
    {
      "cell_type": "markdown",
      "metadata": {
        "id": "qPnnFW8ZHiU7"
      },
      "source": [
        "## **6.2 K-nearest neighbor - KNN**"
      ]
    },
    {
      "cell_type": "code",
      "execution_count": null,
      "metadata": {
        "id": "IBhYNVYcHjt_"
      },
      "outputs": [],
      "source": [
        "KNN = KNeighborsClassifier(n_neighbors = 100, metric='minkowski', p = 2)\n",
        "KNN.fit(X_train_pho, y_train)\n",
        "\n",
        "y_pred_KNN = KNN.predict(X_test_pho)"
      ]
    },
    {
      "cell_type": "code",
      "source": [
        "b = accuracy_score(y_pred_KNN, y_test)\n",
        "print(\"Validation accuracy: \", b*100)"
      ],
      "metadata": {
        "colab": {
          "base_uri": "https://localhost:8080/"
        },
        "id": "OP9ycUhz66tv",
        "outputId": "478cafe1-95ce-46fa-cae0-0fedda2d11b6"
      },
      "execution_count": null,
      "outputs": [
        {
          "output_type": "stream",
          "name": "stdout",
          "text": [
            "Validation accuracy:  63.65755456664548\n"
          ]
        }
      ]
    },
    {
      "cell_type": "markdown",
      "metadata": {
        "id": "lSkFBMfGPoZa"
      },
      "source": [
        "\n",
        "## **6.4 Random Forest**"
      ]
    },
    {
      "cell_type": "code",
      "execution_count": null,
      "metadata": {
        "id": "Fvt-jmcxPqbS"
      },
      "outputs": [],
      "source": [
        "RF=RandomForestClassifier(n_estimators=300)\n",
        "RF.fit(X_train_pho,y_train)\n",
        "\n",
        "y_pred_RF = RF.predict(X_test_pho)"
      ]
    },
    {
      "cell_type": "code",
      "source": [
        "c = accuracy_score(y_pred_RF, y_test)\n",
        "print(\"Validation accuracy: \", c*100)"
      ],
      "metadata": {
        "colab": {
          "base_uri": "https://localhost:8080/"
        },
        "id": "vT6K59U97ASw",
        "outputId": "775ca741-683f-4a41-946b-ac13eab5774e"
      },
      "execution_count": null,
      "outputs": [
        {
          "output_type": "stream",
          "name": "stdout",
          "text": [
            "Validation accuracy:  66.56071201525748\n"
          ]
        }
      ]
    },
    {
      "cell_type": "markdown",
      "metadata": {
        "id": "gTQlV0qYWS5e"
      },
      "source": [
        "# **7. Đánh giá**"
      ]
    },
    {
      "cell_type": "code",
      "source": [
        "# Accuracy\n",
        "import matplotlib.pyplot as plt\n",
        "import numpy as np\n",
        "x = np.array([\"SVM\", \"KNN\", \"Random Forest\" ])\n",
        "y = np.array([a, b, c])\n",
        "plt.title('Accuracy Model %')\n",
        "plt.barh(x, y, color=['red', 'green', 'blue'])\n",
        "plt.show()"
      ],
      "metadata": {
        "colab": {
          "base_uri": "https://localhost:8080/",
          "height": 281
        },
        "id": "7uFCgJ2g7CSZ",
        "outputId": "8d90b736-18ff-401b-806e-4e401032ae36"
      },
      "execution_count": null,
      "outputs": [
        {
          "output_type": "display_data",
          "data": {
            "text/plain": [
              "<Figure size 432x288 with 1 Axes>"
            ],
            "image/png": "[encoded data removed]"
          },
          "metadata": {
            "needs_background": "light"
          }
        }
      ]
    },
    {
      "cell_type": "code",
      "source": [
        "# precision score\n",
        "a = precision_score(y_test, y_pred_KNN, average=\"macro\")\n",
        "b = precision_score(y_test, y_pred_SVM, average=\"macro\")\n",
        "c = precision_score(y_test, y_pred_RF, average=\"macro\")\n",
        "x = np.array([\"SVM\", \"KNN\", \"Random Forest\" ])\n",
        "y = np.array([a, b, c])\n",
        "plt.title('Precision Score %')\n",
        "plt.barh(x, y, color=['red', 'green', 'blue'])\n",
        "plt.show()"
      ],
      "metadata": {
        "colab": {
          "base_uri": "https://localhost:8080/",
          "height": 281
        },
        "id": "jpk7wDqHqiEE",
        "outputId": "ce930681-efbb-4c08-a8e6-494a1d1eb830"
      },
      "execution_count": null,
      "outputs": [
        {
          "output_type": "display_data",
          "data": {
            "text/plain": [
              "<Figure size 432x288 with 1 Axes>"
            ],
            "image/png": "[encoded data removed]"
          },
          "metadata": {
            "needs_background": "light"
          }
        }
      ]
    },
    {
      "cell_type": "code",
      "source": [
        "# Recall Score\n",
        "a = recall_score(y_test, y_pred_KNN, average=\"macro\")\n",
        "b = recall_score(y_test, y_pred_SVM, average=\"macro\")\n",
        "c = recall_score(y_test, y_pred_RF, average=\"macro\")\n",
        "x = np.array([\"SVM\", \"KNN\", \"Random Forest\"])\n",
        "y = np.array([a, b, c])\n",
        "plt.title('Recall Score %')\n",
        "plt.barh(x, y, color=['red', 'green', 'blue'])\n",
        "plt.show()"
      ],
      "metadata": {
        "colab": {
          "base_uri": "https://localhost:8080/",
          "height": 281
        },
        "id": "W1pM0nEFsyTQ",
        "outputId": "ab066230-63d2-4881-90e1-36dba7d509e8"
      },
      "execution_count": null,
      "outputs": [
        {
          "output_type": "display_data",
          "data": {
            "text/plain": [
              "<Figure size 432x288 with 1 Axes>"
            ],
            "image/png": "[encoded data removed]"
          },
          "metadata": {
            "needs_background": "light"
          }
        }
      ]
    },
    {
      "cell_type": "code",
      "source": [
        "# F1 Core\n",
        "a = f1_score(y_test, y_pred_KNN, average=\"macro\")\n",
        "b = f1_score(y_test, y_pred_SVM, average=\"macro\")\n",
        "c = f1_score(y_test, y_pred_RF, average=\"macro\")\n",
        "x = np.array([\"SVM\", \"KNN\", \"Random Forest\"])\n",
        "y = np.array([a, b, c])\n",
        "plt.title('F1 Core %')\n",
        "plt.barh(x, y, color=['red', 'green', 'blue'])\n",
        "plt.show()"
      ],
      "metadata": {
        "colab": {
          "base_uri": "https://localhost:8080/",
          "height": 281
        },
        "id": "ZXahzWlOtKWc",
        "outputId": "6b08681f-1f53-4d6b-9e96-b99a3972f23c"
      },
      "execution_count": null,
      "outputs": [
        {
          "output_type": "display_data",
          "data": {
            "text/plain": [
              "<Figure size 432x288 with 1 Axes>"
            ],
            "image/png": "[encoded data removed]"
          },
          "metadata": {
            "needs_background": "light"
          }
        }
      ]
    },
    {
      "cell_type": "markdown",
      "metadata": {
        "id": "xPp3mhxGXMPa"
      },
      "source": [
        "#**8. Dự đoán**"
      ]
    },
    {
      "cell_type": "code",
      "execution_count": null,
      "metadata": {
        "id": "NpSXbBgouxBP"
      },
      "outputs": [],
      "source": [
        "def pred_val(model, text):\n",
        "  predict_valid = model.predict(text)\n",
        "  return predict_valid"
      ]
    },
    {
      "cell_type": "markdown",
      "metadata": {
        "id": "hV8lL9rJvLdt"
      },
      "source": [
        "##**8.1 Dự đoán trên tập Valid**"
      ]
    },
    {
      "cell_type": "code",
      "source": [
        "predict_lab_KNN = pred_val(KNN, X_valid_pho)\n",
        "predict_lab_SVM = pred_val(SVM, X_valid_pho)\n",
        "predict_lab_RF = pred_val(RF, X_valid_pho)"
      ],
      "metadata": {
        "id": "QQ9rzkNHeHXp"
      },
      "execution_count": null,
      "outputs": []
    },
    {
      "cell_type": "code",
      "execution_count": null,
      "metadata": {
        "id": "oWduKEqWvJKK"
      },
      "outputs": [],
      "source": [
        "predict_lab_KNN = predict_lab_KNN.reshape(-1,1)\n",
        "predict_lab_SVM = predict_lab_SVM.reshape(-1,1)\n",
        "predict_lab_RF = predict_lab_RF.reshape(-1,1)"
      ]
    },
    {
      "cell_type": "code",
      "execution_count": null,
      "metadata": {
        "id": "7ok6vth9zcQD"
      },
      "outputs": [],
      "source": [
        "df_predict =  np.concatenate((np.array(X_valid).reshape(-1, 1),\n",
        "                                   np.array(y_valid).reshape(-1, 1),\n",
        "                                   np.array(predict_lab_KNN).reshape(-1, 1),\n",
        "                                   np.array(predict_lab_SVM).reshape(-1, 1),\n",
        "                                   np.array(predict_lab_RF).reshape(-1, 1)), axis=-1)"
      ]
    },
    {
      "cell_type": "code",
      "execution_count": null,
      "metadata": {
        "id": "wV7u4RPhmvNN"
      },
      "outputs": [],
      "source": [
        "valid_concat_predict_df = pd.DataFrame(df_predict,\n",
        "columns=['comment', 'True_Label', 'Predict KNN', 'Predict SVM', 'Predict RF'])"
      ]
    },
    {
      "cell_type": "code",
      "execution_count": null,
      "metadata": {
        "id": "H6vnpIDWmzVq",
        "colab": {
          "base_uri": "https://localhost:8080/",
          "height": 1000
        },
        "outputId": "76877d51-29f5-43df-f3fe-63a129c758f2"
      },
      "outputs": [
        {
          "output_type": "execute_result",
          "data": {
            "text/plain": [
              "                                               comment True_Label Predict KNN  \\\n",
              "450                                               Chất        POS         POS   \n",
              "451                              Đóng gói siêu sp hình        POS         POS   \n",
              "452                              Chưa chất đóng gói sp        POS         POS   \n",
              "453                               Len mềm mịn hơi mỏng        POS         POS   \n",
              "454  Max đẹp Chất sản phẩm tuyệt vời Đóng gói sản p...        POS         POS   \n",
              "455                                       Áo chất siêu        POS         POS   \n",
              "456                                            Ưng lắm        POS         POS   \n",
              "457                                   Chất phục vụ kém        NEG         POS   \n",
              "458                                           Dáng đẹp        POS         POS   \n",
              "459                               Đai thắt lưng k hình        NEG         POS   \n",
              "460                                 Ảnh áo gui áo ngắn        NEG         POS   \n",
              "461                       Shop giao hàng gửi nhắc chặn        NEG         POS   \n",
              "462                                               Chán        NEG         POS   \n",
              "463    Thời gian giao hàng đứa e m khả năng tết m tiếp        POS         POS   \n",
              "464                          Cái giặt mấy tróc sơn mặt        NEG         POS   \n",
              "465  Chất sản phẩm tuyệt vời mua hàng mong shop hàn...        POS         POS   \n",
              "466                          Áo chất nilon mỏng ráp da        NEG         POS   \n",
              "467                                           Xuất sắc        POS         POS   \n",
              "468                                      Quần chất lắm        POS         POS   \n",
              "469                                            Màu xấu        NEG         POS   \n",
              "470                                        Cám ơn shop        POS         POS   \n",
              "471                                             áo hơi        NEG         POS   \n",
              "472                                                           POS         POS   \n",
              "473                                      Mã QR giả dán        NEG         POS   \n",
              "474      Chất áo chán lắm vai áo k đc đẹp shop phục vụ        POS         POS   \n",
              "475                                  Vải mỏng Rất tiền        NEG         POS   \n",
              "476                         Tạm đc Thời gian giao hàng        NEU         POS   \n",
              "477                         Áo rẻ đẹp phù hợp giá tiền        POS         POS   \n",
              "478       Hàng đẹp xuất sắc chủ vui vẻ nhiệt tình hàng        POS         POS   \n",
              "479  Chất sản phẩm kém Shop phục vụ kém Rất tiền Sh...        NEG         POS   \n",
              "480                                        Mẫu ko hình        NEG         POS   \n",
              "481                               Hàng đẹp chất i hình        POS         POS   \n",
              "482        Chất sản phẩm tuyệt vời Thời gian giao hàng        POS         POS   \n",
              "483                    Áo đẹp vải hơi mỏng xl hơi rộng        NEU         POS   \n",
              "484                                           k màu đc        NEU         POS   \n",
              "485  Chất sản phẩm tuyệt vời Đóng gói sản phẩm đẹp ...        NEG         POS   \n",
              "486  Chất sản phẩm tuyệt vời Đóng gói sản phẩm đẹp ...        POS         POS   \n",
              "487        Sữa ko bàn ly ko đc ng gđ trai ôg bố ly đẹp        POS         POS   \n",
              "488         Giao hàng chóng Đóng gói sản phẩm đẹp chắn        POS         POS   \n",
              "489            Dù shop uy tín vote mấy thực to bao tải        NEG         POS   \n",
              "490                                Chất sản phẩm tuyệt        POS         NEG   \n",
              "491                           Ko ưng ko sz shop đổi sz        NEG         POS   \n",
              "492            Chất sản phẩm tuyệt vời tặng mask nehhh        POS         POS   \n",
              "493                                       tạm tạm tiền        POS         POS   \n",
              "494                                                Dởm        NEG         POS   \n",
              "495                         áo hình lắm ngắn bảo áo cũ        NEU         POS   \n",
              "496      Shop đổi hàng phiền phức tui phiền chết đi đc        NEG         POS   \n",
              "497                           Xe hơi bé vs tưởng tượng        NEG         POS   \n",
              "498                          Mua mau đen giao màu xanh        NEG         POS   \n",
              "499                                 Quần mặc thoải mái        POS         POS   \n",
              "\n",
              "    Predict SVM Predict RF  \n",
              "450         POS        POS  \n",
              "451         POS        POS  \n",
              "452         POS        POS  \n",
              "453         POS        POS  \n",
              "454         POS        POS  \n",
              "455         POS        NEG  \n",
              "456         POS        POS  \n",
              "457         POS        NEG  \n",
              "458         POS        POS  \n",
              "459         POS        NEG  \n",
              "460         POS        NEU  \n",
              "461         POS        POS  \n",
              "462         NEG        NEG  \n",
              "463         POS        POS  \n",
              "464         POS        POS  \n",
              "465         POS        POS  \n",
              "466         POS        POS  \n",
              "467         POS        POS  \n",
              "468         POS        POS  \n",
              "469         NEG        NEG  \n",
              "470         POS        POS  \n",
              "471         POS        NEU  \n",
              "472         POS        POS  \n",
              "473         POS        POS  \n",
              "474         POS        POS  \n",
              "475         POS        POS  \n",
              "476         POS        POS  \n",
              "477         POS        POS  \n",
              "478         POS        POS  \n",
              "479         POS        POS  \n",
              "480         POS        NEG  \n",
              "481         POS        POS  \n",
              "482         POS        POS  \n",
              "483         POS        POS  \n",
              "484         POS        POS  \n",
              "485         POS        POS  \n",
              "486         POS        POS  \n",
              "487         POS        POS  \n",
              "488         POS        POS  \n",
              "489         POS        POS  \n",
              "490         POS        POS  \n",
              "491         POS        NEG  \n",
              "492         POS        POS  \n",
              "493         POS        POS  \n",
              "494         POS        NEG  \n",
              "495         POS        NEG  \n",
              "496         POS        POS  \n",
              "497         POS        POS  \n",
              "498         POS        NEG  \n",
              "499         POS        POS  "
            ],
            "text/html": [
              "\n",
              "  <div id=\"df-e41cebb8-60ea-41e6-a7a2-7d1ccb3b7611\">\n",
              "    <div class=\"colab-df-container\">\n",
              "      <div>\n",
              "<style scoped>\n",
              "    .dataframe tbody tr th:only-of-type {\n",
              "        vertical-align: middle;\n",
              "    }\n",
              "\n",
              "    .dataframe tbody tr th {\n",
              "        vertical-align: top;\n",
              "    }\n",
              "\n",
              "    .dataframe thead th {\n",
              "        text-align: right;\n",
              "    }\n",
              "</style>\n",
              "<table border=\"1\" class=\"dataframe\">\n",
              "  <thead>\n",
              "    <tr style=\"text-align: right;\">\n",
              "      <th></th>\n",
              "      <th>comment</th>\n",
              "      <th>True_Label</th>\n",
              "      <th>Predict KNN</th>\n",
              "      <th>Predict SVM</th>\n",
              "      <th>Predict RF</th>\n",
              "    </tr>\n",
              "  </thead>\n",
              "  <tbody>\n",
              "    <tr>\n",
              "      <th>450</th>\n",
              "      <td>Chất</td>\n",
              "      <td>POS</td>\n",
              "      <td>POS</td>\n",
              "      <td>POS</td>\n",
              "      <td>POS</td>\n",
              "    </tr>\n",
              "    <tr>\n",
              "      <th>451</th>\n",
              "      <td>Đóng gói siêu sp hình</td>\n",
              "      <td>POS</td>\n",
              "      <td>POS</td>\n",
              "      <td>POS</td>\n",
              "      <td>POS</td>\n",
              "    </tr>\n",
              "    <tr>\n",
              "      <th>452</th>\n",
              "      <td>Chưa chất đóng gói sp</td>\n",
              "      <td>POS</td>\n",
              "      <td>POS</td>\n",
              "      <td>POS</td>\n",
              "      <td>POS</td>\n",
              "    </tr>\n",
              "    <tr>\n",
              "      <th>453</th>\n",
              "      <td>Len mềm mịn hơi mỏng</td>\n",
              "      <td>POS</td>\n",
              "      <td>POS</td>\n",
              "      <td>POS</td>\n",
              "      <td>POS</td>\n",
              "    </tr>\n",
              "    <tr>\n",
              "      <th>454</th>\n",
              "      <td>Max đẹp Chất sản phẩm tuyệt vời Đóng gói sản p...</td>\n",
              "      <td>POS</td>\n",
              "      <td>POS</td>\n",
              "      <td>POS</td>\n",
              "      <td>POS</td>\n",
              "    </tr>\n",
              "    <tr>\n",
              "      <th>455</th>\n",
              "      <td>Áo chất siêu</td>\n",
              "      <td>POS</td>\n",
              "      <td>POS</td>\n",
              "      <td>POS</td>\n",
              "      <td>NEG</td>\n",
              "    </tr>\n",
              "    <tr>\n",
              "      <th>456</th>\n",
              "      <td>Ưng lắm</td>\n",
              "      <td>POS</td>\n",
              "      <td>POS</td>\n",
              "      <td>POS</td>\n",
              "      <td>POS</td>\n",
              "    </tr>\n",
              "    <tr>\n",
              "      <th>457</th>\n",
              "      <td>Chất phục vụ kém</td>\n",
              "      <td>NEG</td>\n",
              "      <td>POS</td>\n",
              "      <td>POS</td>\n",
              "      <td>NEG</td>\n",
              "    </tr>\n",
              "    <tr>\n",
              "      <th>458</th>\n",
              "      <td>Dáng đẹp</td>\n",
              "      <td>POS</td>\n",
              "      <td>POS</td>\n",
              "      <td>POS</td>\n",
              "      <td>POS</td>\n",
              "    </tr>\n",
              "    <tr>\n",
              "      <th>459</th>\n",
              "      <td>Đai thắt lưng k hình</td>\n",
              "      <td>NEG</td>\n",
              "      <td>POS</td>\n",
              "      <td>POS</td>\n",
              "      <td>NEG</td>\n",
              "    </tr>\n",
              "    <tr>\n",
              "      <th>460</th>\n",
              "      <td>Ảnh áo gui áo ngắn</td>\n",
              "      <td>NEG</td>\n",
              "      <td>POS</td>\n",
              "      <td>POS</td>\n",
              "      <td>NEU</td>\n",
              "    </tr>\n",
              "    <tr>\n",
              "      <th>461</th>\n",
              "      <td>Shop giao hàng gửi nhắc chặn</td>\n",
              "      <td>NEG</td>\n",
              "      <td>POS</td>\n",
              "      <td>POS</td>\n",
              "      <td>POS</td>\n",
              "    </tr>\n",
              "    <tr>\n",
              "      <th>462</th>\n",
              "      <td>Chán</td>\n",
              "      <td>NEG</td>\n",
              "      <td>POS</td>\n",
              "      <td>NEG</td>\n",
              "      <td>NEG</td>\n",
              "    </tr>\n",
              "    <tr>\n",
              "      <th>463</th>\n",
              "      <td>Thời gian giao hàng đứa e m khả năng tết m tiếp</td>\n",
              "      <td>POS</td>\n",
              "      <td>POS</td>\n",
              "      <td>POS</td>\n",
              "      <td>POS</td>\n",
              "    </tr>\n",
              "    <tr>\n",
              "      <th>464</th>\n",
              "      <td>Cái giặt mấy tróc sơn mặt</td>\n",
              "      <td>NEG</td>\n",
              "      <td>POS</td>\n",
              "      <td>POS</td>\n",
              "      <td>POS</td>\n",
              "    </tr>\n",
              "    <tr>\n",
              "      <th>465</th>\n",
              "      <td>Chất sản phẩm tuyệt vời mua hàng mong shop hàn...</td>\n",
              "      <td>POS</td>\n",
              "      <td>POS</td>\n",
              "      <td>POS</td>\n",
              "      <td>POS</td>\n",
              "    </tr>\n",
              "    <tr>\n",
              "      <th>466</th>\n",
              "      <td>Áo chất nilon mỏng ráp da</td>\n",
              "      <td>NEG</td>\n",
              "      <td>POS</td>\n",
              "      <td>POS</td>\n",
              "      <td>POS</td>\n",
              "    </tr>\n",
              "    <tr>\n",
              "      <th>467</th>\n",
              "      <td>Xuất sắc</td>\n",
              "      <td>POS</td>\n",
              "      <td>POS</td>\n",
              "      <td>POS</td>\n",
              "      <td>POS</td>\n",
              "    </tr>\n",
              "    <tr>\n",
              "      <th>468</th>\n",
              "      <td>Quần chất lắm</td>\n",
              "      <td>POS</td>\n",
              "      <td>POS</td>\n",
              "      <td>POS</td>\n",
              "      <td>POS</td>\n",
              "    </tr>\n",
              "    <tr>\n",
              "      <th>469</th>\n",
              "      <td>Màu xấu</td>\n",
              "      <td>NEG</td>\n",
              "      <td>POS</td>\n",
              "      <td>NEG</td>\n",
              "      <td>NEG</td>\n",
              "    </tr>\n",
              "    <tr>\n",
              "      <th>470</th>\n",
              "      <td>Cám ơn shop</td>\n",
              "      <td>POS</td>\n",
              "      <td>POS</td>\n",
              "      <td>POS</td>\n",
              "      <td>POS</td>\n",
              "    </tr>\n",
              "    <tr>\n",
              "      <th>471</th>\n",
              "      <td>áo hơi</td>\n",
              "      <td>NEG</td>\n",
              "      <td>POS</td>\n",
              "      <td>POS</td>\n",
              "      <td>NEU</td>\n",
              "    </tr>\n",
              "    <tr>\n",
              "      <th>472</th>\n",
              "      <td></td>\n",
              "      <td>POS</td>\n",
              "      <td>POS</td>\n",
              "      <td>POS</td>\n",
              "      <td>POS</td>\n",
              "    </tr>\n",
              "    <tr>\n",
              "      <th>473</th>\n",
              "      <td>Mã QR giả dán</td>\n",
              "      <td>NEG</td>\n",
              "      <td>POS</td>\n",
              "      <td>POS</td>\n",
              "      <td>POS</td>\n",
              "    </tr>\n",
              "    <tr>\n",
              "      <th>474</th>\n",
              "      <td>Chất áo chán lắm vai áo k đc đẹp shop phục vụ</td>\n",
              "      <td>POS</td>\n",
              "      <td>POS</td>\n",
              "      <td>POS</td>\n",
              "      <td>POS</td>\n",
              "    </tr>\n",
              "    <tr>\n",
              "      <th>475</th>\n",
              "      <td>Vải mỏng Rất tiền</td>\n",
              "      <td>NEG</td>\n",
              "      <td>POS</td>\n",
              "      <td>POS</td>\n",
              "      <td>POS</td>\n",
              "    </tr>\n",
              "    <tr>\n",
              "      <th>476</th>\n",
              "      <td>Tạm đc Thời gian giao hàng</td>\n",
              "      <td>NEU</td>\n",
              "      <td>POS</td>\n",
              "      <td>POS</td>\n",
              "      <td>POS</td>\n",
              "    </tr>\n",
              "    <tr>\n",
              "      <th>477</th>\n",
              "      <td>Áo rẻ đẹp phù hợp giá tiền</td>\n",
              "      <td>POS</td>\n",
              "      <td>POS</td>\n",
              "      <td>POS</td>\n",
              "      <td>POS</td>\n",
              "    </tr>\n",
              "    <tr>\n",
              "      <th>478</th>\n",
              "      <td>Hàng đẹp xuất sắc chủ vui vẻ nhiệt tình hàng</td>\n",
              "      <td>POS</td>\n",
              "      <td>POS</td>\n",
              "      <td>POS</td>\n",
              "      <td>POS</td>\n",
              "    </tr>\n",
              "    <tr>\n",
              "      <th>479</th>\n",
              "      <td>Chất sản phẩm kém Shop phục vụ kém Rất tiền Sh...</td>\n",
              "      <td>NEG</td>\n",
              "      <td>POS</td>\n",
              "      <td>POS</td>\n",
              "      <td>POS</td>\n",
              "    </tr>\n",
              "    <tr>\n",
              "      <th>480</th>\n",
              "      <td>Mẫu ko hình</td>\n",
              "      <td>NEG</td>\n",
              "      <td>POS</td>\n",
              "      <td>POS</td>\n",
              "      <td>NEG</td>\n",
              "    </tr>\n",
              "    <tr>\n",
              "      <th>481</th>\n",
              "      <td>Hàng đẹp chất i hình</td>\n",
              "      <td>POS</td>\n",
              "      <td>POS</td>\n",
              "      <td>POS</td>\n",
              "      <td>POS</td>\n",
              "    </tr>\n",
              "    <tr>\n",
              "      <th>482</th>\n",
              "      <td>Chất sản phẩm tuyệt vời Thời gian giao hàng</td>\n",
              "      <td>POS</td>\n",
              "      <td>POS</td>\n",
              "      <td>POS</td>\n",
              "      <td>POS</td>\n",
              "    </tr>\n",
              "    <tr>\n",
              "      <th>483</th>\n",
              "      <td>Áo đẹp vải hơi mỏng xl hơi rộng</td>\n",
              "      <td>NEU</td>\n",
              "      <td>POS</td>\n",
              "      <td>POS</td>\n",
              "      <td>POS</td>\n",
              "    </tr>\n",
              "    <tr>\n",
              "      <th>484</th>\n",
              "      <td>k màu đc</td>\n",
              "      <td>NEU</td>\n",
              "      <td>POS</td>\n",
              "      <td>POS</td>\n",
              "      <td>POS</td>\n",
              "    </tr>\n",
              "    <tr>\n",
              "      <th>485</th>\n",
              "      <td>Chất sản phẩm tuyệt vời Đóng gói sản phẩm đẹp ...</td>\n",
              "      <td>NEG</td>\n",
              "      <td>POS</td>\n",
              "      <td>POS</td>\n",
              "      <td>POS</td>\n",
              "    </tr>\n",
              "    <tr>\n",
              "      <th>486</th>\n",
              "      <td>Chất sản phẩm tuyệt vời Đóng gói sản phẩm đẹp ...</td>\n",
              "      <td>POS</td>\n",
              "      <td>POS</td>\n",
              "      <td>POS</td>\n",
              "      <td>POS</td>\n",
              "    </tr>\n",
              "    <tr>\n",
              "      <th>487</th>\n",
              "      <td>Sữa ko bàn ly ko đc ng gđ trai ôg bố ly đẹp</td>\n",
              "      <td>POS</td>\n",
              "      <td>POS</td>\n",
              "      <td>POS</td>\n",
              "      <td>POS</td>\n",
              "    </tr>\n",
              "    <tr>\n",
              "      <th>488</th>\n",
              "      <td>Giao hàng chóng Đóng gói sản phẩm đẹp chắn</td>\n",
              "      <td>POS</td>\n",
              "      <td>POS</td>\n",
              "      <td>POS</td>\n",
              "      <td>POS</td>\n",
              "    </tr>\n",
              "    <tr>\n",
              "      <th>489</th>\n",
              "      <td>Dù shop uy tín vote mấy thực to bao tải</td>\n",
              "      <td>NEG</td>\n",
              "      <td>POS</td>\n",
              "      <td>POS</td>\n",
              "      <td>POS</td>\n",
              "    </tr>\n",
              "    <tr>\n",
              "      <th>490</th>\n",
              "      <td>Chất sản phẩm tuyệt</td>\n",
              "      <td>POS</td>\n",
              "      <td>NEG</td>\n",
              "      <td>POS</td>\n",
              "      <td>POS</td>\n",
              "    </tr>\n",
              "    <tr>\n",
              "      <th>491</th>\n",
              "      <td>Ko ưng ko sz shop đổi sz</td>\n",
              "      <td>NEG</td>\n",
              "      <td>POS</td>\n",
              "      <td>POS</td>\n",
              "      <td>NEG</td>\n",
              "    </tr>\n",
              "    <tr>\n",
              "      <th>492</th>\n",
              "      <td>Chất sản phẩm tuyệt vời tặng mask nehhh</td>\n",
              "      <td>POS</td>\n",
              "      <td>POS</td>\n",
              "      <td>POS</td>\n",
              "      <td>POS</td>\n",
              "    </tr>\n",
              "    <tr>\n",
              "      <th>493</th>\n",
              "      <td>tạm tạm tiền</td>\n",
              "      <td>POS</td>\n",
              "      <td>POS</td>\n",
              "      <td>POS</td>\n",
              "      <td>POS</td>\n",
              "    </tr>\n",
              "    <tr>\n",
              "      <th>494</th>\n",
              "      <td>Dởm</td>\n",
              "      <td>NEG</td>\n",
              "      <td>POS</td>\n",
              "      <td>POS</td>\n",
              "      <td>NEG</td>\n",
              "    </tr>\n",
              "    <tr>\n",
              "      <th>495</th>\n",
              "      <td>áo hình lắm ngắn bảo áo cũ</td>\n",
              "      <td>NEU</td>\n",
              "      <td>POS</td>\n",
              "      <td>POS</td>\n",
              "      <td>NEG</td>\n",
              "    </tr>\n",
              "    <tr>\n",
              "      <th>496</th>\n",
              "      <td>Shop đổi hàng phiền phức tui phiền chết đi đc</td>\n",
              "      <td>NEG</td>\n",
              "      <td>POS</td>\n",
              "      <td>POS</td>\n",
              "      <td>POS</td>\n",
              "    </tr>\n",
              "    <tr>\n",
              "      <th>497</th>\n",
              "      <td>Xe hơi bé vs tưởng tượng</td>\n",
              "      <td>NEG</td>\n",
              "      <td>POS</td>\n",
              "      <td>POS</td>\n",
              "      <td>POS</td>\n",
              "    </tr>\n",
              "    <tr>\n",
              "      <th>498</th>\n",
              "      <td>Mua mau đen giao màu xanh</td>\n",
              "      <td>NEG</td>\n",
              "      <td>POS</td>\n",
              "      <td>POS</td>\n",
              "      <td>NEG</td>\n",
              "    </tr>\n",
              "    <tr>\n",
              "      <th>499</th>\n",
              "      <td>Quần mặc thoải mái</td>\n",
              "      <td>POS</td>\n",
              "      <td>POS</td>\n",
              "      <td>POS</td>\n",
              "      <td>POS</td>\n",
              "    </tr>\n",
              "  </tbody>\n",
              "</table>\n",
              "</div>\n",
              "      <button class=\"colab-df-convert\" onclick=\"convertToInteractive('df-e41cebb8-60ea-41e6-a7a2-7d1ccb3b7611')\"\n",
              "              title=\"Convert this dataframe to an interactive table.\"\n",
              "              style=\"display:none;\">\n",
              "        \n",
              "  <svg xmlns=\"http://www.w3.org/2000/svg\" height=\"24px\"viewBox=\"0 0 24 24\"\n",
              "       width=\"24px\">\n",
              "    <path d=\"M0 0h24v24H0V0z\" fill=\"none\"/>\n",
              "    <path d=\"M18.56 5.44l.94 2.06.94-2.06 2.06-.94-2.06-.94-.94-2.06-.94 2.06-2.06.94zm-11 1L8.5 8.5l.94-2.06 2.06-.94-2.06-.94L8.5 2.5l-.94 2.06-2.06.94zm10 10l.94 2.06.94-2.06 2.06-.94-2.06-.94-.94-2.06-.94 2.06-2.06.94z\"/><path d=\"M17.41 7.96l-1.37-1.37c-.4-.4-.92-.59-1.43-.59-.52 0-1.04.2-1.43.59L10.3 9.45l-7.72 7.72c-.78.78-.78 2.05 0 2.83L4 21.41c.39.39.9.59 1.41.59.51 0 1.02-.2 1.41-.59l7.78-7.78 2.81-2.81c.8-.78.8-2.07 0-2.86zM5.41 20L4 18.59l7.72-7.72 1.47 1.35L5.41 20z\"/>\n",
              "  </svg>\n",
              "      </button>\n",
              "      \n",
              "  <style>\n",
              "    .colab-df-container {\n",
              "      display:flex;\n",
              "      flex-wrap:wrap;\n",
              "      gap: 12px;\n",
              "    }\n",
              "\n",
              "    .colab-df-convert {\n",
              "      background-color: #E8F0FE;\n",
              "      border: none;\n",
              "      border-radius: 50%;\n",
              "      cursor: pointer;\n",
              "      display: none;\n",
              "      fill: #1967D2;\n",
              "      height: 32px;\n",
              "      padding: 0 0 0 0;\n",
              "      width: 32px;\n",
              "    }\n",
              "\n",
              "    .colab-df-convert:hover {\n",
              "      background-color: #E2EBFA;\n",
              "      box-shadow: 0px 1px 2px rgba(60, 64, 67, 0.3), 0px 1px 3px 1px rgba(60, 64, 67, 0.15);\n",
              "      fill: #174EA6;\n",
              "    }\n",
              "\n",
              "    [theme=dark] .colab-df-convert {\n",
              "      background-color: #3B4455;\n",
              "      fill: #D2E3FC;\n",
              "    }\n",
              "\n",
              "    [theme=dark] .colab-df-convert:hover {\n",
              "      background-color: #434B5C;\n",
              "      box-shadow: 0px 1px 3px 1px rgba(0, 0, 0, 0.15);\n",
              "      filter: drop-shadow(0px 1px 2px rgba(0, 0, 0, 0.3));\n",
              "      fill: #FFFFFF;\n",
              "    }\n",
              "  </style>\n",
              "\n",
              "      <script>\n",
              "        const buttonEl =\n",
              "          document.querySelector('#df-e41cebb8-60ea-41e6-a7a2-7d1ccb3b7611 button.colab-df-convert');\n",
              "        buttonEl.style.display =\n",
              "          google.colab.kernel.accessAllowed ? 'block' : 'none';\n",
              "\n",
              "        async function convertToInteractive(key) {\n",
              "          const element = document.querySelector('#df-e41cebb8-60ea-41e6-a7a2-7d1ccb3b7611');\n",
              "          const dataTable =\n",
              "            await google.colab.kernel.invokeFunction('convertToInteractive',\n",
              "                                                     [key], {});\n",
              "          if (!dataTable) return;\n",
              "\n",
              "          const docLinkHtml = 'Like what you see? Visit the ' +\n",
              "            '<a target=\"_blank\" href=https://colab.research.google.com/notebooks/data_table.ipynb>data table notebook</a>'\n",
              "            + ' to learn more about interactive tables.';\n",
              "          element.innerHTML = '';\n",
              "          dataTable['output_type'] = 'display_data';\n",
              "          await google.colab.output.renderOutput(dataTable, element);\n",
              "          const docLink = document.createElement('div');\n",
              "          docLink.innerHTML = docLinkHtml;\n",
              "          element.appendChild(docLink);\n",
              "        }\n",
              "      </script>\n",
              "    </div>\n",
              "  </div>\n",
              "  "
            ]
          },
          "metadata": {},
          "execution_count": 98
        }
      ],
      "source": [
        "valid_concat_predict_df[450:500]"
      ]
    },
    {
      "cell_type": "markdown",
      "metadata": {
        "id": "mZf3h9uLvUij"
      },
      "source": [
        "##**8.2 Dự đoán text**"
      ]
    },
    {
      "cell_type": "code",
      "source": [
        "text=('khá là thất vọng')"
      ],
      "metadata": {
        "id": "nyYoRvkX0gLd"
      },
      "execution_count": null,
      "outputs": []
    },
    {
      "cell_type": "code",
      "source": [
        "text = 'sản phẩm không tuyệt vời như mình nghĩ'"
      ],
      "metadata": {
        "id": "W5tnkXWL0p2X"
      },
      "execution_count": null,
      "outputs": []
    },
    {
      "cell_type": "code",
      "execution_count": null,
      "metadata": {
        "id": "4kjHQJ-KvXha"
      },
      "outputs": [],
      "source": [
        "# text = input('Input text to predict lable: ')"
      ]
    },
    {
      "cell_type": "code",
      "source": [
        "text_w = word_tokenize(text)\n",
        "text_w\n",
        "filtered_sentence = [w for w in text_w if not w.lower() in stopword]\n",
        "filtered_sentence = []\n",
        "for w in text_w :\n",
        "    if w not in stopword:\n",
        "        filtered_sentence.append(w)\n",
        "filtered_sentence = \" \".join(filtered_sentence)"
      ],
      "metadata": {
        "id": "rahDk0V0CVUl"
      },
      "execution_count": null,
      "outputs": []
    },
    {
      "cell_type": "code",
      "execution_count": null,
      "metadata": {
        "id": "6CeYJdLPovJR",
        "colab": {
          "base_uri": "https://localhost:8080/"
        },
        "outputId": "30bb0239-b4d3-4ab2-ae32-f9e2188de559"
      },
      "outputs": [
        {
          "output_type": "stream",
          "name": "stderr",
          "text": [
            "100%|██████████| 1/1 [00:00<00:00, 276.07it/s]"
          ]
        },
        {
          "output_type": "stream",
          "name": "stdout",
          "text": [
            "\n",
            "KNN predict:  ['POS']\n",
            "\n",
            "SVM predict:  ['POS']\n",
            "\n",
            "Random Forest predict:  ['POS']\n"
          ]
        },
        {
          "output_type": "stream",
          "name": "stderr",
          "text": [
            "\n"
          ]
        }
      ],
      "source": [
        "text = np.array([filtered_sentence],dtype=object)\n",
        "text = convert_lines(text, vocab, phoBERT_cls.bpe)\n",
        "print('\\nKNN predict: ', pred_val(KNN, text))\n",
        "print('\\nSVM predict: ', pred_val(SVM, text))\n",
        "print('\\nRandom Forest predict: ', pred_val(RF, text))"
      ]
    }
  ],
  "metadata": {
    "colab": {
      "provenance": [],
      "collapsed_sections": [
        "hV8lL9rJvLdt"
      ]
    },
    "kernelspec": {
      "display_name": "Python 3",
      "name": "python3"
    },
    "language_info": {
      "name": "python"
    }
  },
  "nbformat": 4,
  "nbformat_minor": 0
}